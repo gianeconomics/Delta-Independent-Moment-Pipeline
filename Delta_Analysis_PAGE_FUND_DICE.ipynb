{
 "cells": [
  {
   "cell_type": "markdown",
   "metadata": {},
   "source": [
    "ENG: This Jupyter Notebook loads the data obtained from the Monte Carlo Sample, distinguish the parameters from the objective variables, executes the delta function on the pre processed data and saves the results in the results folder, for each of the three models."
   ]
  },
  {
   "cell_type": "markdown",
   "metadata": {},
   "source": [
    "ESP: Este Jupyter Notebook carga los datos obtenidos del Muestreo Monte Carlo, distingue entre los parametros y la variables objetivos, ejecuta la funcion delta en estos datos preprocesados y guarda los resultados en la carpeta results, en cada uno de los tres modelos. "
   ]
  },
  {
   "cell_type": "code",
   "execution_count": null,
   "metadata": {},
   "outputs": [],
   "source": [
    "from SALib.analyze import delta\n",
    "from SALib.util.results import ResultDict\n",
    "\n",
    "import pandas as pd\n",
    "import glob"
   ]
  },
  {
   "cell_type": "markdown",
   "metadata": {},
   "source": [
    "# **PAGE**"
   ]
  },
  {
   "cell_type": "markdown",
   "metadata": {},
   "source": [
    "**ENG: Load data**\n",
    "<br>\n",
    "**ESP: Cargar datos**"
   ]
  },
  {
   "cell_type": "code",
   "execution_count": null,
   "metadata": {},
   "outputs": [],
   "source": [
    "parametersPAGE = pd.read_csv(\"Data/PAGE/trialsPAGE.csv\")\n",
    "sccPAGE = pd.read_csv(\"Data/PAGE/sccPAGE.csv\",index_col=\"trial\")"
   ]
  },
  {
   "cell_type": "code",
   "execution_count": null,
   "metadata": {},
   "outputs": [],
   "source": [
    "namesPAGE = parametersPAGE.columns\n",
    "\n",
    "problemsPAGE = {'num_vars': len(namesPAGE),'names': namesPAGE}"
   ]
  },
  {
   "cell_type": "markdown",
   "metadata": {},
   "source": [
    "**ENG: Distinguish parameters from the objective variable**\n",
    "<br>\n",
    "**ESP: Distinguir entre parametros y variables objetivo**"
   ]
  },
  {
   "cell_type": "code",
   "execution_count": null,
   "metadata": {},
   "outputs": [],
   "source": [
    "YPAGE = sccPAGE[' SCC: 2030'].values\n",
    "XPAGE = parametersPAGE.values"
   ]
  },
  {
   "cell_type": "markdown",
   "metadata": {},
   "source": [
    "**ENG: Excute delta function**\n",
    "<br>\n",
    "**ESP: Ejecutar función delta**"
   ]
  },
  {
   "cell_type": "code",
   "execution_count": null,
   "metadata": {},
   "outputs": [],
   "source": [
    "deltaPAGE = delta.analyze(problemsPAGE, XPAGE, YPAGE, num_resamples=512, print_to_console=False)"
   ]
  },
  {
   "cell_type": "markdown",
   "metadata": {},
   "source": [
    "**ENG: Save results**\n",
    "<br>\n",
    "**ESP: Guardar resultados**"
   ]
  },
  {
   "cell_type": "code",
   "execution_count": null,
   "metadata": {},
   "outputs": [],
   "source": [
    "resultsPAGE = ResultDict(deltaPAGE)\n",
    "dfPAGE = resultsPAGE.to_df()\n",
    "dfPAGE.to_csv(\"Results/deltaPAGE.csv\")"
   ]
  },
  {
   "cell_type": "markdown",
   "metadata": {},
   "source": [
    "# **FUND**"
   ]
  },
  {
   "cell_type": "code",
   "execution_count": null,
   "metadata": {},
   "outputs": [],
   "source": [
    "all_parameter_data = glob.glob(\"Data/FUND\" +  \"/*.csv\")"
   ]
  },
  {
   "cell_type": "code",
   "execution_count": null,
   "metadata": {},
   "outputs": [],
   "source": [
    "files = []\n",
    "for i in range(5):\n",
    "    if i == 0: \n",
    "        continue\n",
    "    df = pd.read_csv(all_parameter_data[i], index_col=None, header=0)\n",
    "    files.append(df)\n",
    "    \n",
    "parametersFUND = pd.concat(files, axis=0, ignore_index=True)\n",
    "sccFUND = pd.read_csv(\"Data/FUND/sccFUND.csv\",index_col=\"trial\")"
   ]
  },
  {
   "cell_type": "code",
   "execution_count": null,
   "metadata": {},
   "outputs": [],
   "source": [
    "namesFUND = parametersFUND.columns\n",
    "problemsFUND = {'num_vars': len(namesFUND),'names': namesFUND}"
   ]
  },
  {
   "cell_type": "code",
   "execution_count": null,
   "metadata": {},
   "outputs": [],
   "source": [
    "YFUND = sccFUND[' SCC: 2030'].values\n",
    "XFUND = parametersFUND.values"
   ]
  },
  {
   "cell_type": "code",
   "execution_count": null,
   "metadata": {},
   "outputs": [],
   "source": [
    "deltaFUND = delta.analyze(problemsFUND, XFUND, YFUND, num_resamples=50, print_to_console=False)"
   ]
  },
  {
   "cell_type": "code",
   "execution_count": null,
   "metadata": {},
   "outputs": [],
   "source": [
    "resultsFUND = ResultDict(deltaFUND)\n",
    "dfFUND = resultsFUND.to_df()\n",
    "dfFUND.to_csv(\"Results/deltaFUND.csv\")"
   ]
  },
  {
   "cell_type": "markdown",
   "metadata": {},
   "source": [
    "# **DICE**"
   ]
  },
  {
   "cell_type": "code",
   "execution_count": null,
   "metadata": {},
   "outputs": [],
   "source": [
    "parametersDICE = pd.read_csv(\"Data/DICE/trialsDICE.csv\")\n",
    "sccDICE = pd.read_csv(\"Data/DICE/sccDICE.csv\",index_col=\"trial\")"
   ]
  },
  {
   "cell_type": "code",
   "execution_count": null,
   "metadata": {},
   "outputs": [],
   "source": [
    "namesDICE = parametersDICE.columns\n",
    "problemsDICE = {'num_vars': len(namesDICE),'names': namesDICE}"
   ]
  },
  {
   "cell_type": "code",
   "execution_count": null,
   "metadata": {},
   "outputs": [],
   "source": [
    "YDICE = sccDICE[' SCC: 2030'].values\n",
    "XDICE = parametersDICE.values"
   ]
  },
  {
   "cell_type": "code",
   "execution_count": null,
   "metadata": {},
   "outputs": [],
   "source": [
    "deltaDICE = delta.analyze(problemsDICE, XDICE, YDICE, num_resamples=512, print_to_console=False)"
   ]
  },
  {
   "cell_type": "code",
   "execution_count": null,
   "metadata": {},
   "outputs": [],
   "source": [
    "resultsDICE = ResultDict(deltaDICE)\n",
    "dfDICE = resultsDICE.to_df()\n",
    "dfDICE.to_csv(\"Results/deltaDICE.csv\")"
   ]
  }
 ],
 "metadata": {
  "kernelspec": {
   "display_name": "Python 3",
   "language": "python",
   "name": "python3"
  },
  "language_info": {
   "codemirror_mode": {
    "name": "ipython",
    "version": 3
   },
   "file_extension": ".py",
   "mimetype": "text/x-python",
   "name": "python",
   "nbconvert_exporter": "python",
   "pygments_lexer": "ipython3",
   "version": "3.8.1"
  }
 },
 "nbformat": 4,
 "nbformat_minor": 2
}
